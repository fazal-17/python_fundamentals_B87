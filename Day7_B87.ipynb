{
 "cells": [
  {
   "cell_type": "code",
   "execution_count": null,
   "id": "a6403360-5fed-4517-8787-7866a161f0e3",
   "metadata": {},
   "outputs": [],
   "source": [
    "Introduction to looping statements:"
   ]
  },
  {
   "cell_type": "code",
   "execution_count": null,
   "id": "c161d30d-c570-44a5-9d3a-f285de70adc3",
   "metadata": {},
   "outputs": [],
   "source": [
    "Understanding the concept of for loop:"
   ]
  },
  {
   "cell_type": "code",
   "execution_count": 1,
   "id": "d00103ae-3f59-403a-8a00-53daed6eeb70",
   "metadata": {},
   "outputs": [],
   "source": [
    "students= ['naveen','amer','uday','sameer','anusha','bushra']"
   ]
  },
  {
   "cell_type": "code",
   "execution_count": 3,
   "id": "96b187df-9e45-4bfb-bb39-03d7d88b5640",
   "metadata": {},
   "outputs": [
    {
     "name": "stdout",
     "output_type": "stream",
     "text": [
      "['naveen', 'amer', 'uday', 'sameer', 'anusha', 'bushra']\n"
     ]
    }
   ],
   "source": [
    "print(students)"
   ]
  },
  {
   "cell_type": "code",
   "execution_count": 5,
   "id": "f68b392d-292c-4b67-a394-77513ed11433",
   "metadata": {},
   "outputs": [
    {
     "data": {
      "text/plain": [
       "list"
      ]
     },
     "execution_count": 5,
     "metadata": {},
     "output_type": "execute_result"
    }
   ],
   "source": [
    "type(students)"
   ]
  },
  {
   "cell_type": "code",
   "execution_count": null,
   "id": "25890892-c591-4361-bb36-952789cee9a4",
   "metadata": {},
   "outputs": [],
   "source": [
    "#req: to appreciate the list of students mentioned above."
   ]
  },
  {
   "cell_type": "code",
   "execution_count": 7,
   "id": "43dc86aa-30aa-48ae-88d3-41b53ba7b119",
   "metadata": {},
   "outputs": [
    {
     "name": "stdout",
     "output_type": "stream",
     "text": [
      "keep up the good work,Naveen\n"
     ]
    }
   ],
   "source": [
    "print(f\"keep up the good work,{students[0].title()}\") "
   ]
  },
  {
   "cell_type": "code",
   "execution_count": null,
   "id": "04d397e1-645a-4c8c-b4d4-bdb30fddb0dd",
   "metadata": {},
   "outputs": [],
   "source": [
    "#req: amer....."
   ]
  },
  {
   "cell_type": "code",
   "execution_count": 9,
   "id": "8e27d10f-5662-40b2-8e3e-4bfa90524ec5",
   "metadata": {},
   "outputs": [
    {
     "ename": "SyntaxError",
     "evalue": "f-string: expecting '}' (2030047074.py, line 1)",
     "output_type": "error",
     "traceback": [
      "\u001b[1;36m  Cell \u001b[1;32mIn[9], line 1\u001b[1;36m\u001b[0m\n\u001b[1;33m    print(f\"keep up the good work,{students[1].title()\"})\u001b[0m\n\u001b[1;37m                                                      ^\u001b[0m\n\u001b[1;31mSyntaxError\u001b[0m\u001b[1;31m:\u001b[0m f-string: expecting '}'\n"
     ]
    }
   ],
   "source": [
    "print(f\"keep up the good work,{students[1].title()\"})"
   ]
  },
  {
   "cell_type": "code",
   "execution_count": 11,
   "id": "34facfd8-efef-4474-bc77-25a1410c6ee3",
   "metadata": {},
   "outputs": [
    {
     "name": "stdout",
     "output_type": "stream",
     "text": [
      "keep up the good work,Amer\n"
     ]
    }
   ],
   "source": [
    "print(f\"keep up the good work,{students[1].title()}\")"
   ]
  },
  {
   "cell_type": "code",
   "execution_count": null,
   "id": "f541a0a4-9a3b-480e-bb47-a0f658c4aaa2",
   "metadata": {},
   "outputs": [],
   "source": []
  },
  {
   "cell_type": "code",
   "execution_count": 13,
   "id": "81a47fcc-de8e-4d04-8792-5e8b125cc47c",
   "metadata": {},
   "outputs": [],
   "source": [
    "#General syntax of for loop"
   ]
  },
  {
   "cell_type": "code",
   "execution_count": null,
   "id": "90a942fa-2f89-4106-9fdc-cfdf3417d108",
   "metadata": {},
   "outputs": [],
   "source": [
    "for tempvar in mainvar:\n",
    "    print(tempvar)"
   ]
  },
  {
   "cell_type": "code",
   "execution_count": null,
   "id": "467bc402-e65b-40b7-b1c6-4ce6d55d68d6",
   "metadata": {},
   "outputs": [],
   "source": []
  },
  {
   "cell_type": "code",
   "execution_count": 15,
   "id": "bc46bde1-3a01-4bf3-b825-999b4b6c0908",
   "metadata": {},
   "outputs": [
    {
     "name": "stdout",
     "output_type": "stream",
     "text": [
      "keep up the good work, Naveen\n",
      "keep up the good work, Amer\n",
      "keep up the good work, Uday\n",
      "keep up the good work, Sameer\n",
      "keep up the good work, Anusha\n",
      "keep up the good work, Bushra\n"
     ]
    }
   ],
   "source": [
    "for x in students:\n",
    "    print(f\"keep up the good work, {x.title()}\")"
   ]
  },
  {
   "cell_type": "code",
   "execution_count": null,
   "id": "8bc3dc70-58af-42ea-9737-48fb0c187c58",
   "metadata": {},
   "outputs": [],
   "source": []
  },
  {
   "cell_type": "code",
   "execution_count": 17,
   "id": "af5a5cb5-28b9-43eb-83fa-cd63aced3da5",
   "metadata": {},
   "outputs": [
    {
     "name": "stdout",
     "output_type": "stream",
     "text": [
      "naveen\n",
      "amer\n",
      "uday\n",
      "sameer\n",
      "anusha\n",
      "bushra\n"
     ]
    }
   ],
   "source": [
    "for y in students:\n",
    "    print(y)"
   ]
  },
  {
   "cell_type": "code",
   "execution_count": 19,
   "id": "4703fa3e-9c48-4595-ad05-e820bd530ff2",
   "metadata": {},
   "outputs": [
    {
     "name": "stdout",
     "output_type": "stream",
     "text": [
      "keep up the good work, Naveen\n",
      "do submit your work for today without fail, Naveen\n",
      "keep up the good work, Amer\n",
      "do submit your work for today without fail, Amer\n",
      "keep up the good work, Uday\n",
      "do submit your work for today without fail, Uday\n",
      "keep up the good work, Sameer\n",
      "do submit your work for today without fail, Sameer\n",
      "keep up the good work, Anusha\n",
      "do submit your work for today without fail, Anusha\n",
      "keep up the good work, Bushra\n",
      "do submit your work for today without fail, Bushra\n"
     ]
    }
   ],
   "source": [
    "for x in students:\n",
    "    print(f\"keep up the good work, {x.title()}\")\n",
    "    print(f\"do submit your work for today without fail, {x.title()}\")"
   ]
  },
  {
   "cell_type": "code",
   "execution_count": null,
   "id": "395906ea-7ad1-44c3-8f06-e8886d8d9a1f",
   "metadata": {},
   "outputs": [],
   "source": []
  },
  {
   "cell_type": "code",
   "execution_count": null,
   "id": "4335a11b-76fc-41fe-87ec-627342e4e7c9",
   "metadata": {},
   "outputs": [],
   "source": [
    "#Enhancement of the code"
   ]
  },
  {
   "cell_type": "code",
   "execution_count": 21,
   "id": "8224b935-bc91-487b-a8ea-12347b7165a6",
   "metadata": {},
   "outputs": [
    {
     "name": "stdout",
     "output_type": "stream",
     "text": [
      "keep up the good work, Naveen\n",
      "do submit your work for today without fail, Naveen\n",
      "\n",
      "keep up the good work, Amer\n",
      "do submit your work for today without fail, Amer\n",
      "\n",
      "keep up the good work, Uday\n",
      "do submit your work for today without fail, Uday\n",
      "\n",
      "keep up the good work, Sameer\n",
      "do submit your work for today without fail, Sameer\n",
      "\n",
      "keep up the good work, Anusha\n",
      "do submit your work for today without fail, Anusha\n",
      "\n",
      "keep up the good work, Bushra\n",
      "do submit your work for today without fail, Bushra\n",
      "\n"
     ]
    }
   ],
   "source": [
    "for x in students:\n",
    "    print(f\"keep up the good work, {x.title()}\")\n",
    "    print(f\"do submit your work for today without fail, {x.title()}\\n\")"
   ]
  },
  {
   "cell_type": "code",
   "execution_count": null,
   "id": "2f9a7241-78d3-4cf7-b15f-b8075b27c365",
   "metadata": {},
   "outputs": [],
   "source": []
  },
  {
   "cell_type": "code",
   "execution_count": null,
   "id": "79662dd9-53cb-4bc5-84fb-933630859649",
   "metadata": {},
   "outputs": [],
   "source": [
    "for tempvar in mainvar:\n",
    "    print(tempvar) #gap before print is INDENTATION"
   ]
  },
  {
   "cell_type": "code",
   "execution_count": 23,
   "id": "4f877238-a861-469d-8440-86303179d99f",
   "metadata": {},
   "outputs": [
    {
     "ename": "IndentationError",
     "evalue": "expected an indented block after 'for' statement on line 1 (2238096663.py, line 2)",
     "output_type": "error",
     "traceback": [
      "\u001b[1;36m  Cell \u001b[1;32mIn[23], line 2\u001b[1;36m\u001b[0m\n\u001b[1;33m    print(y)\u001b[0m\n\u001b[1;37m    ^\u001b[0m\n\u001b[1;31mIndentationError\u001b[0m\u001b[1;31m:\u001b[0m expected an indented block after 'for' statement on line 1\n"
     ]
    }
   ],
   "source": [
    "for y in students:\n",
    "print(y)"
   ]
  },
  {
   "cell_type": "code",
   "execution_count": null,
   "id": "94e866ae-2f03-4ef7-b62d-c46fe416ee90",
   "metadata": {},
   "outputs": [],
   "source": []
  },
  {
   "cell_type": "code",
   "execution_count": 25,
   "id": "30c88652-acbe-45c3-9097-64d25a746a17",
   "metadata": {},
   "outputs": [
    {
     "name": "stdout",
     "output_type": "stream",
     "text": [
      "keep up the good work, Naveen\n",
      "do submit your work for today without fail, Naveen\n",
      "\n",
      "keep up the good work, Amer\n",
      "do submit your work for today without fail, Amer\n",
      "\n",
      "keep up the good work, Uday\n",
      "do submit your work for today without fail, Uday\n",
      "\n",
      "keep up the good work, Sameer\n",
      "do submit your work for today without fail, Sameer\n",
      "\n",
      "keep up the good work, Anusha\n",
      "do submit your work for today without fail, Anusha\n",
      "\n",
      "keep up the good work, Bushra\n",
      "do submit your work for today without fail, Bushra\n",
      "\n",
      "Thank you all for joining the session\n"
     ]
    }
   ],
   "source": [
    "for x in students:\n",
    "    print(f\"keep up the good work, {x.title()}\") #writing in the loop -----> it will be applied to all the elements in the list\n",
    "    print(f\"do submit your work for today without fail, {x.title()}\\n\") #writing in the loop\n",
    "print(\"Thank you all for joining the session\") #It is getting executed only one time ------> writing out of the loop"
   ]
  },
  {
   "cell_type": "code",
   "execution_count": null,
   "id": "c5484b39-7476-4420-aac1-20837a7c19c1",
   "metadata": {},
   "outputs": [],
   "source": []
  }
 ],
 "metadata": {
  "kernelspec": {
   "display_name": "Python 3 (ipykernel)",
   "language": "python",
   "name": "python3"
  },
  "language_info": {
   "codemirror_mode": {
    "name": "ipython",
    "version": 3
   },
   "file_extension": ".py",
   "mimetype": "text/x-python",
   "name": "python",
   "nbconvert_exporter": "python",
   "pygments_lexer": "ipython3",
   "version": "3.12.4"
  }
 },
 "nbformat": 4,
 "nbformat_minor": 5
}
