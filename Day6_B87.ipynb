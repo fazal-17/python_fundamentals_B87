{
 "cells": [
  {
   "cell_type": "code",
   "execution_count": null,
   "id": "0d24f8f6-22b5-4149-892d-ebd10b986ef3",
   "metadata": {},
   "outputs": [],
   "source": [
    "Continuation with List datatype:"
   ]
  },
  {
   "cell_type": "code",
   "execution_count": null,
   "id": "addc70e3-f32d-4556-b0cc-db9195dace99",
   "metadata": {},
   "outputs": [],
   "source": [
    "Organising the ist datatype:"
   ]
  },
  {
   "cell_type": "code",
   "execution_count": null,
   "id": "c93a9f9b-6498-45d4-b76d-6c8d6b7ccc17",
   "metadata": {},
   "outputs": [],
   "source": []
  },
  {
   "cell_type": "code",
   "execution_count": 1,
   "id": "feef8cfd-1fd5-4685-8629-1a7c9e754e4a",
   "metadata": {},
   "outputs": [],
   "source": [
    "cars = ['benz','maruti','audi','suzuki','bmw','kia']"
   ]
  },
  {
   "cell_type": "code",
   "execution_count": 3,
   "id": "3dd3f91c-b7a2-4a15-9460-659ab915d60f",
   "metadata": {},
   "outputs": [
    {
     "name": "stdout",
     "output_type": "stream",
     "text": [
      "['benz', 'maruti', 'audi', 'suzuki', 'bmw', 'kia']\n"
     ]
    }
   ],
   "source": [
    "print(cars)"
   ]
  },
  {
   "cell_type": "code",
   "execution_count": 5,
   "id": "3155ed7b-d6ab-4421-b52a-a79220994711",
   "metadata": {},
   "outputs": [],
   "source": [
    "#req: I want to organise into Alphabetical order"
   ]
  },
  {
   "cell_type": "code",
   "execution_count": null,
   "id": "58c35e8c-bfcc-4c29-9c0c-820a24d6dff0",
   "metadata": {},
   "outputs": [],
   "source": [
    "1.Temp approach ------> Sorted method -------> we can have the original list order maintained.\n",
    "\n",
    "2.Permanent approach ------> sort method ------> we will not having the original order -------> changes are applied permanently."
   ]
  },
  {
   "cell_type": "code",
   "execution_count": null,
   "id": "2469c306-9e4f-4f79-9a44-2ed1cc8371c1",
   "metadata": {},
   "outputs": [],
   "source": []
  },
  {
   "cell_type": "code",
   "execution_count": 7,
   "id": "ada8d2a1-2d97-4d2c-af14-c551724894b5",
   "metadata": {},
   "outputs": [
    {
     "name": "stdout",
     "output_type": "stream",
     "text": [
      "['audi', 'benz', 'bmw', 'kia', 'maruti', 'suzuki']\n"
     ]
    }
   ],
   "source": [
    "print(sorted(cars)) #A,B,C"
   ]
  },
  {
   "cell_type": "code",
   "execution_count": null,
   "id": "61b77a69-d32b-47f2-8c2f-e19e6ab12d4a",
   "metadata": {},
   "outputs": [],
   "source": [
    "#benz and bmw ----> B, B, E, M ---> E"
   ]
  },
  {
   "cell_type": "code",
   "execution_count": 9,
   "id": "2506ce8f-dd89-42e0-8f1f-e225a22629ed",
   "metadata": {},
   "outputs": [
    {
     "name": "stdout",
     "output_type": "stream",
     "text": [
      "['benz', 'maruti', 'audi', 'suzuki', 'bmw', 'kia']\n"
     ]
    }
   ],
   "source": [
    "print(cars) #we are getting the original order intact.....!"
   ]
  },
  {
   "cell_type": "code",
   "execution_count": null,
   "id": "0978778e-17e3-4ad2-88bb-656d6c0f1acd",
   "metadata": {},
   "outputs": [],
   "source": []
  },
  {
   "cell_type": "code",
   "execution_count": 11,
   "id": "4be4b5aa-0e3a-4ce2-83b6-1f2ee349981b",
   "metadata": {},
   "outputs": [],
   "source": [
    "cars.sort() #Permanent sorting into Alphabetical order"
   ]
  },
  {
   "cell_type": "code",
   "execution_count": 13,
   "id": "311c2adf-2ca6-454a-9faf-481f37e1942a",
   "metadata": {},
   "outputs": [
    {
     "name": "stdout",
     "output_type": "stream",
     "text": [
      "['audi', 'benz', 'bmw', 'kia', 'maruti', 'suzuki']\n"
     ]
    }
   ],
   "source": [
    "print(cars)"
   ]
  },
  {
   "cell_type": "code",
   "execution_count": null,
   "id": "3fc00dff-4854-4335-b887-3e2d82dfcce5",
   "metadata": {},
   "outputs": [],
   "source": [
    "Interview Que: What is the difference between sorted and sort in list datatype......?"
   ]
  },
  {
   "cell_type": "code",
   "execution_count": null,
   "id": "b491ec30-f1d0-4690-996e-9d345e6154a3",
   "metadata": {},
   "outputs": [],
   "source": []
  },
  {
   "cell_type": "code",
   "execution_count": null,
   "id": "6e24a95f-712d-49f1-aecb-3084c32bb59e",
   "metadata": {},
   "outputs": [],
   "source": [
    "#req: I want to print the list in reverse order......!"
   ]
  },
  {
   "cell_type": "code",
   "execution_count": 15,
   "id": "93159627-6797-4e1a-bde4-8eb4a783017a",
   "metadata": {},
   "outputs": [],
   "source": [
    "cars.reverse()"
   ]
  },
  {
   "cell_type": "code",
   "execution_count": 17,
   "id": "2e63bc7f-a23f-4823-925d-6c2caf138f37",
   "metadata": {},
   "outputs": [
    {
     "name": "stdout",
     "output_type": "stream",
     "text": [
      "['suzuki', 'maruti', 'kia', 'bmw', 'benz', 'audi']\n"
     ]
    }
   ],
   "source": [
    "print(cars)"
   ]
  },
  {
   "cell_type": "code",
   "execution_count": 19,
   "id": "6ed32dba-8922-4acd-b9ac-010638d3c5dc",
   "metadata": {},
   "outputs": [
    {
     "name": "stdout",
     "output_type": "stream",
     "text": [
      "['suzuki', 'maruti', 'kia', 'bmw', 'benz', 'audi']\n"
     ]
    }
   ],
   "source": [
    "print(cars)"
   ]
  },
  {
   "cell_type": "code",
   "execution_count": null,
   "id": "0e6832b9-9dc0-48fc-9bc6-d68c399e0910",
   "metadata": {},
   "outputs": [],
   "source": []
  },
  {
   "cell_type": "code",
   "execution_count": null,
   "id": "c4246504-bdaa-4507-b4f3-0d60096b9fc9",
   "metadata": {},
   "outputs": [],
   "source": [
    "#req: I want to know the total count of elements......"
   ]
  },
  {
   "cell_type": "code",
   "execution_count": 21,
   "id": "25dcae2e-23c0-4abc-8035-17b159c859d6",
   "metadata": {},
   "outputs": [
    {
     "data": {
      "text/plain": [
       "6"
      ]
     },
     "execution_count": 21,
     "metadata": {},
     "output_type": "execute_result"
    }
   ],
   "source": [
    "len(cars)"
   ]
  },
  {
   "cell_type": "code",
   "execution_count": null,
   "id": "fc669bbe-5262-4893-9e59-b020d5fe91bc",
   "metadata": {},
   "outputs": [],
   "source": [
    "Slicing the list:"
   ]
  },
  {
   "cell_type": "code",
   "execution_count": null,
   "id": "13431aee-53c3-42c5-84fa-747bf6d6cc53",
   "metadata": {},
   "outputs": [],
   "source": []
  },
  {
   "cell_type": "code",
   "execution_count": 23,
   "id": "93673f05-e400-420b-9166-d392e43a54cc",
   "metadata": {},
   "outputs": [],
   "source": [
    "students = ['aditi','naveen','saima','keerthi','nouman','joseph']"
   ]
  },
  {
   "cell_type": "code",
   "execution_count": 25,
   "id": "347ddf9d-f4fb-4f33-8a5a-6b88a873db80",
   "metadata": {},
   "outputs": [
    {
     "name": "stdout",
     "output_type": "stream",
     "text": [
      "['aditi', 'naveen', 'saima', 'keerthi', 'nouman', 'joseph']\n"
     ]
    }
   ],
   "source": [
    "print(students)"
   ]
  },
  {
   "cell_type": "code",
   "execution_count": 27,
   "id": "6ab5d0bd-11a2-4e1c-8d66-60ec2ffbec1a",
   "metadata": {},
   "outputs": [
    {
     "data": {
      "text/plain": [
       "list"
      ]
     },
     "execution_count": 27,
     "metadata": {},
     "output_type": "execute_result"
    }
   ],
   "source": [
    "type(students)"
   ]
  },
  {
   "cell_type": "code",
   "execution_count": null,
   "id": "e07dbbf4-c29a-44c0-ade2-3cef05694e36",
   "metadata": {},
   "outputs": [],
   "source": [
    "#General syntax of slicing:"
   ]
  },
  {
   "cell_type": "code",
   "execution_count": null,
   "id": "7feaf422-2fd4-49f7-b1c5-3184bd3e5b4b",
   "metadata": {},
   "outputs": [],
   "source": [
    "[start_value:stop_value:step_count]"
   ]
  },
  {
   "cell_type": "code",
   "execution_count": null,
   "id": "e6a694e3-2c9e-4e00-a3c1-c2f1bde944ce",
   "metadata": {},
   "outputs": [],
   "source": [
    "Note_point: stop_value is always exclusive, to include the stop value we have to increment the index by +1."
   ]
  },
  {
   "cell_type": "code",
   "execution_count": null,
   "id": "ab99d568-a8ad-4480-b8a4-5b77f4f1c33d",
   "metadata": {},
   "outputs": [],
   "source": [
    "#req: I want lets say aditi and naveen in the Output."
   ]
  },
  {
   "cell_type": "code",
   "execution_count": 29,
   "id": "747565fc-161c-4ae2-8688-7f9204db3da2",
   "metadata": {},
   "outputs": [
    {
     "name": "stdout",
     "output_type": "stream",
     "text": [
      "['aditi']\n"
     ]
    }
   ],
   "source": [
    "print(students[0:1])"
   ]
  },
  {
   "cell_type": "code",
   "execution_count": 31,
   "id": "18ffdb45-3de7-45cd-b796-4824e36e3b03",
   "metadata": {},
   "outputs": [
    {
     "name": "stdout",
     "output_type": "stream",
     "text": [
      "['aditi', 'naveen']\n"
     ]
    }
   ],
   "source": [
    "print(students[0:2])"
   ]
  },
  {
   "cell_type": "code",
   "execution_count": null,
   "id": "89c7910c-c3bf-498c-a268-45475151c61e",
   "metadata": {},
   "outputs": [],
   "source": [
    "#req: saima and keerthi"
   ]
  },
  {
   "cell_type": "code",
   "execution_count": 33,
   "id": "da1548ad-9921-4685-8c3c-303fc2fd5a29",
   "metadata": {},
   "outputs": [
    {
     "name": "stdout",
     "output_type": "stream",
     "text": [
      "['keerthi']\n"
     ]
    }
   ],
   "source": [
    "print(students[3:4])"
   ]
  },
  {
   "cell_type": "code",
   "execution_count": 35,
   "id": "69844122-7922-4b38-bbe4-e8ae3ff7e10d",
   "metadata": {},
   "outputs": [
    {
     "name": "stdout",
     "output_type": "stream",
     "text": [
      "['saima', 'keerthi']\n"
     ]
    }
   ],
   "source": [
    "print(students[2:4])"
   ]
  },
  {
   "cell_type": "code",
   "execution_count": 37,
   "id": "1d6d598f-ae8c-423a-9bbb-1b54cb7dc325",
   "metadata": {},
   "outputs": [],
   "source": [
    "#req: nouman anad joseph"
   ]
  },
  {
   "cell_type": "code",
   "execution_count": 39,
   "id": "6bf863fc-4d14-4d27-9e09-6c6a3f1ea11f",
   "metadata": {},
   "outputs": [
    {
     "ename": "NameError",
     "evalue": "name 'Print' is not defined",
     "output_type": "error",
     "traceback": [
      "\u001b[1;31m---------------------------------------------------------------------------\u001b[0m",
      "\u001b[1;31mNameError\u001b[0m                                 Traceback (most recent call last)",
      "Cell \u001b[1;32mIn[39], line 1\u001b[0m\n\u001b[1;32m----> 1\u001b[0m Print(students[\u001b[38;5;241m4\u001b[39m:\u001b[38;5;241m5\u001b[39m])\n",
      "\u001b[1;31mNameError\u001b[0m: name 'Print' is not defined"
     ]
    }
   ],
   "source": [
    "Print(students[4:5])"
   ]
  },
  {
   "cell_type": "code",
   "execution_count": 41,
   "id": "254cd548-3697-4c56-aac9-511f6ad656cc",
   "metadata": {},
   "outputs": [
    {
     "name": "stdout",
     "output_type": "stream",
     "text": [
      "['nouman']\n"
     ]
    }
   ],
   "source": [
    "print(students[4:5])"
   ]
  },
  {
   "cell_type": "code",
   "execution_count": 43,
   "id": "819d8d18-40fc-480a-a167-8a13845c20bf",
   "metadata": {},
   "outputs": [
    {
     "name": "stdout",
     "output_type": "stream",
     "text": [
      "['nouman', 'joseph']\n"
     ]
    }
   ],
   "source": [
    "print(students[4:6])"
   ]
  },
  {
   "cell_type": "code",
   "execution_count": 45,
   "id": "a77a48db-9851-420a-bb86-dcd70277e8c4",
   "metadata": {},
   "outputs": [],
   "source": [
    "#req: aditi saima and nouman in the output......."
   ]
  },
  {
   "cell_type": "code",
   "execution_count": 47,
   "id": "64e88200-d75f-47af-84b0-e061d0936213",
   "metadata": {},
   "outputs": [
    {
     "name": "stdout",
     "output_type": "stream",
     "text": [
      "['aditi', 'saima', 'nouman']\n"
     ]
    }
   ],
   "source": [
    "print(students[0:6:2])"
   ]
  },
  {
   "cell_type": "code",
   "execution_count": 49,
   "id": "f9dd9ff5-270a-4c1f-aba8-4a9027868981",
   "metadata": {},
   "outputs": [
    {
     "name": "stdout",
     "output_type": "stream",
     "text": [
      "['aditi', 'naveen', 'saima', 'keerthi', 'nouman', 'joseph']\n"
     ]
    }
   ],
   "source": [
    "print(students)"
   ]
  },
  {
   "cell_type": "code",
   "execution_count": null,
   "id": "4dc8447d-b3cf-411e-ac5d-e3e94f21249c",
   "metadata": {},
   "outputs": [],
   "source": []
  }
 ],
 "metadata": {
  "kernelspec": {
   "display_name": "Python 3 (ipykernel)",
   "language": "python",
   "name": "python3"
  },
  "language_info": {
   "codemirror_mode": {
    "name": "ipython",
    "version": 3
   },
   "file_extension": ".py",
   "mimetype": "text/x-python",
   "name": "python",
   "nbconvert_exporter": "python",
   "pygments_lexer": "ipython3",
   "version": "3.12.4"
  }
 },
 "nbformat": 4,
 "nbformat_minor": 5
}
