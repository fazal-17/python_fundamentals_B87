{
 "cells": [
  {
   "cell_type": "code",
   "execution_count": null,
   "id": "90385e6e-6a9b-4fe5-85d4-020e9eb0be29",
   "metadata": {},
   "outputs": [],
   "source": [
    "Introducion to tuple datatype:"
   ]
  },
  {
   "cell_type": "code",
   "execution_count": null,
   "id": "93fea457-73e7-4d62-9c6a-fc1652e004e0",
   "metadata": {},
   "outputs": [],
   "source": [
    "Defination: An immutable list is called tuple\n",
    "\n",
    "Classification: It is classified as immutable datatype\n",
    "\n",
    "How to define tuple datatype -----> ( )"
   ]
  },
  {
   "cell_type": "code",
   "execution_count": null,
   "id": "53271c5b-dd1a-4302-b235-0a4fdd5b9ae8",
   "metadata": {},
   "outputs": [],
   "source": []
  },
  {
   "cell_type": "code",
   "execution_count": 1,
   "id": "16894c82-e796-4040-a722-06f5ce2e510e",
   "metadata": {},
   "outputs": [
    {
     "name": "stdout",
     "output_type": "stream",
     "text": [
      "(100, 150)\n"
     ]
    }
   ],
   "source": [
    "dimensions = (100,150)\n",
    "print(dimensions)"
   ]
  },
  {
   "cell_type": "code",
   "execution_count": 3,
   "id": "27637d5f-8b8c-4f94-80ae-d3faf986bdca",
   "metadata": {},
   "outputs": [
    {
     "ename": "AttributeError",
     "evalue": "type object 'type' has no attribute 'dimensions'",
     "output_type": "error",
     "traceback": [
      "\u001b[1;31m---------------------------------------------------------------------------\u001b[0m",
      "\u001b[1;31mAttributeError\u001b[0m                            Traceback (most recent call last)",
      "Cell \u001b[1;32mIn[3], line 1\u001b[0m\n\u001b[1;32m----> 1\u001b[0m \u001b[38;5;28mtype\u001b[39m\u001b[38;5;241m.\u001b[39mdimensions\n",
      "\u001b[1;31mAttributeError\u001b[0m: type object 'type' has no attribute 'dimensions'"
     ]
    }
   ],
   "source": [
    "type.dimensions"
   ]
  },
  {
   "cell_type": "code",
   "execution_count": 5,
   "id": "7371d200-c53c-43df-9ec9-4cb4c68ff5ea",
   "metadata": {},
   "outputs": [
    {
     "data": {
      "text/plain": [
       "tuple"
      ]
     },
     "execution_count": 5,
     "metadata": {},
     "output_type": "execute_result"
    }
   ],
   "source": [
    "type(dimensions)"
   ]
  },
  {
   "cell_type": "code",
   "execution_count": null,
   "id": "98f1ac5f-b5e8-4628-b70f-47e2d551fc96",
   "metadata": {},
   "outputs": [],
   "source": [
    "#req: I want to change 100-----, 200"
   ]
  },
  {
   "cell_type": "code",
   "execution_count": 7,
   "id": "cb037375-9a1e-4fe4-a663-dce5383edbc0",
   "metadata": {},
   "outputs": [
    {
     "ename": "NameError",
     "evalue": "name 'dimension' is not defined",
     "output_type": "error",
     "traceback": [
      "\u001b[1;31m---------------------------------------------------------------------------\u001b[0m",
      "\u001b[1;31mNameError\u001b[0m                                 Traceback (most recent call last)",
      "Cell \u001b[1;32mIn[7], line 1\u001b[0m\n\u001b[1;32m----> 1\u001b[0m dimension[\u001b[38;5;241m0\u001b[39m] \u001b[38;5;241m=\u001b[39m \u001b[38;5;241m200\u001b[39m\n",
      "\u001b[1;31mNameError\u001b[0m: name 'dimension' is not defined"
     ]
    }
   ],
   "source": [
    "dimension[0] = 200"
   ]
  },
  {
   "cell_type": "code",
   "execution_count": null,
   "id": "1bed7c2d-1a65-4164-a0b1-e3499cc11909",
   "metadata": {},
   "outputs": [],
   "source": []
  },
  {
   "cell_type": "code",
   "execution_count": 9,
   "id": "c654f950-8062-498d-be09-55e20cdb2a61",
   "metadata": {},
   "outputs": [],
   "source": [
    "students = ('fazal', 'ahamed', 'parveen', 'naveen')"
   ]
  },
  {
   "cell_type": "code",
   "execution_count": 11,
   "id": "bfd06180-54db-49c4-85c6-d672a049af93",
   "metadata": {},
   "outputs": [
    {
     "name": "stdout",
     "output_type": "stream",
     "text": [
      "('fazal', 'ahamed', 'parveen', 'naveen')\n"
     ]
    }
   ],
   "source": [
    "print(students)"
   ]
  },
  {
   "cell_type": "code",
   "execution_count": 13,
   "id": "f1a47930-589a-4577-a344-dbaf3710c552",
   "metadata": {},
   "outputs": [
    {
     "data": {
      "text/plain": [
       "tuple"
      ]
     },
     "execution_count": 13,
     "metadata": {},
     "output_type": "execute_result"
    }
   ],
   "source": [
    "type(students)"
   ]
  },
  {
   "cell_type": "code",
   "execution_count": 15,
   "id": "86401a02-1cb8-4cab-9301-3c3ffef4defc",
   "metadata": {},
   "outputs": [
    {
     "name": "stdout",
     "output_type": "stream",
     "text": [
      "fazal\n",
      "ahamed\n",
      "parveen\n",
      "naveen\n"
     ]
    }
   ],
   "source": [
    "for x in students:\n",
    "    print(x)"
   ]
  },
  {
   "cell_type": "code",
   "execution_count": null,
   "id": "d0b81520-6cf6-4888-8791-3de8021ead00",
   "metadata": {},
   "outputs": [],
   "source": []
  },
  {
   "cell_type": "code",
   "execution_count": null,
   "id": "1468de2b-a39c-46f5-9c99-f4c358ca6e86",
   "metadata": {},
   "outputs": [],
   "source": [
    "Intoduction to dictionaries:"
   ]
  },
  {
   "cell_type": "code",
   "execution_count": null,
   "id": "262e812e-771d-4aab-82ad-0fbe364a648e",
   "metadata": {},
   "outputs": [],
   "source": [
    "Defination: A dictionary is a combination of key value pairs\n",
    "\n",
    "Classification: It is classified as a immutable datatype\n",
    "\n",
    "How to define the dictionary : { }"
   ]
  },
  {
   "cell_type": "code",
   "execution_count": null,
   "id": "8e5f89af-dbef-4cb0-9643-5f6daf22d433",
   "metadata": {},
   "outputs": [],
   "source": []
  },
  {
   "cell_type": "code",
   "execution_count": null,
   "id": "bbbebb79-dcc0-466a-8a60-407fa4c600e3",
   "metadata": {},
   "outputs": [],
   "source": [
    "#req: I want to create a alien game"
   ]
  },
  {
   "cell_type": "code",
   "execution_count": 17,
   "id": "17e54959-4dea-4a68-887c-d8570ebc7e62",
   "metadata": {},
   "outputs": [],
   "source": [
    "alien = {'colour': 'green','points':10}"
   ]
  },
  {
   "cell_type": "code",
   "execution_count": 19,
   "id": "b028ce5c-4f16-46b4-afb6-f3ead2d36aff",
   "metadata": {},
   "outputs": [
    {
     "name": "stdout",
     "output_type": "stream",
     "text": [
      "{'colour': 'green', 'points': 10}\n"
     ]
    }
   ],
   "source": [
    "print(alien)"
   ]
  },
  {
   "cell_type": "code",
   "execution_count": 21,
   "id": "a6d5d83c-b2bc-4637-aab9-2a9c2ed9f338",
   "metadata": {},
   "outputs": [
    {
     "data": {
      "text/plain": [
       "dict"
      ]
     },
     "execution_count": 21,
     "metadata": {},
     "output_type": "execute_result"
    }
   ],
   "source": [
    "type(alien)"
   ]
  },
  {
   "cell_type": "code",
   "execution_count": null,
   "id": "0c9e4e56-c6a3-416c-b249-8f9498ce4c75",
   "metadata": {},
   "outputs": [],
   "source": []
  },
  {
   "cell_type": "code",
   "execution_count": null,
   "id": "514f42ed-e4f8-463e-a8f6-4ec77cbf4eb6",
   "metadata": {},
   "outputs": [],
   "source": [
    "#req: How to add new key values pairs to the dictionary"
   ]
  },
  {
   "cell_type": "code",
   "execution_count": null,
   "id": "0c299cb8-ccde-47ee-afdb-fe7d45a8396b",
   "metadata": {},
   "outputs": [],
   "source": [
    "#start_Position : level 0"
   ]
  },
  {
   "cell_type": "code",
   "execution_count": 23,
   "id": "80647ca8-e763-45c8-b4fb-7e83d1aa90bd",
   "metadata": {},
   "outputs": [],
   "source": [
    "alien['start_position'] = 'level0'"
   ]
  },
  {
   "cell_type": "code",
   "execution_count": 25,
   "id": "5b18f7ba-a175-4a6d-9456-2127f89305ec",
   "metadata": {},
   "outputs": [
    {
     "name": "stdout",
     "output_type": "stream",
     "text": [
      "{'colour': 'green', 'points': 10, 'start_position': 'level0'}\n"
     ]
    }
   ],
   "source": [
    "print (alien)"
   ]
  },
  {
   "cell_type": "code",
   "execution_count": null,
   "id": "0cf23ada-60ef-43d3-8f2a-76ed92404823",
   "metadata": {},
   "outputs": [],
   "source": [
    "note: keys will be acting as a index point in the dictionary"
   ]
  },
  {
   "cell_type": "code",
   "execution_count": null,
   "id": "5dc10eb1-8f3d-4076-9744-e5a9e2a05878",
   "metadata": {},
   "outputs": [],
   "source": []
  },
  {
   "cell_type": "code",
   "execution_count": null,
   "id": "2ea10fbe-ea81-4524-a44c-583056df3722",
   "metadata": {},
   "outputs": [],
   "source": [
    "#req: I want to add current position : level - 1"
   ]
  },
  {
   "cell_type": "code",
   "execution_count": 27,
   "id": "1b0dcdf5-803a-4dc4-be90-a7a022b84c00",
   "metadata": {},
   "outputs": [],
   "source": [
    "alien['current_position'] = 'level - 1'"
   ]
  },
  {
   "cell_type": "code",
   "execution_count": 29,
   "id": "01e8a7fe-13fe-4daa-b395-473d50e17577",
   "metadata": {},
   "outputs": [
    {
     "name": "stdout",
     "output_type": "stream",
     "text": [
      "{'colour': 'green', 'points': 10, 'start_position': 'level0', 'current_position': 'level - 1'}\n"
     ]
    }
   ],
   "source": [
    "print (alien)"
   ]
  },
  {
   "cell_type": "code",
   "execution_count": null,
   "id": "3f261040-8514-46fd-aede-43f846b39116",
   "metadata": {},
   "outputs": [],
   "source": []
  },
  {
   "cell_type": "code",
   "execution_count": null,
   "id": "f4914781-8d0a-4773-b0e4-c16e89a69bc4",
   "metadata": {},
   "outputs": [],
   "source": [
    "#req: How to access the values from the dictionary......."
   ]
  },
  {
   "cell_type": "code",
   "execution_count": 31,
   "id": "2bdca0cc-f305-4bde-b897-46d526163718",
   "metadata": {},
   "outputs": [
    {
     "data": {
      "text/plain": [
       "10"
      ]
     },
     "execution_count": 31,
     "metadata": {},
     "output_type": "execute_result"
    }
   ],
   "source": [
    "alien['points']"
   ]
  },
  {
   "cell_type": "code",
   "execution_count": 33,
   "id": "10bfac78-4fe2-4345-af6f-10b7e6f41c46",
   "metadata": {},
   "outputs": [
    {
     "data": {
      "text/plain": [
       "'level - 1'"
      ]
     },
     "execution_count": 33,
     "metadata": {},
     "output_type": "execute_result"
    }
   ],
   "source": [
    "alien['current_position']"
   ]
  },
  {
   "cell_type": "code",
   "execution_count": null,
   "id": "0df19fe8-f9e8-4f04-ac70-be27369dbb2b",
   "metadata": {},
   "outputs": [],
   "source": [
    "Note : give the key and get the value"
   ]
  },
  {
   "cell_type": "code",
   "execution_count": null,
   "id": "688b67d1-5c1c-4ac5-95af-8c59cd58d651",
   "metadata": {},
   "outputs": [],
   "source": [
    "#can we get the key by giving the "
   ]
  },
  {
   "cell_type": "code",
   "execution_count": 35,
   "id": "8b5d4e83-2d4d-4be5-a9e9-a86e096b26e4",
   "metadata": {},
   "outputs": [
    {
     "ename": "KeyError",
     "evalue": "'green'",
     "output_type": "error",
     "traceback": [
      "\u001b[1;31m---------------------------------------------------------------------------\u001b[0m",
      "\u001b[1;31mKeyError\u001b[0m                                  Traceback (most recent call last)",
      "Cell \u001b[1;32mIn[35], line 1\u001b[0m\n\u001b[1;32m----> 1\u001b[0m alien[\u001b[38;5;124m'\u001b[39m\u001b[38;5;124mgreen\u001b[39m\u001b[38;5;124m'\u001b[39m]\n",
      "\u001b[1;31mKeyError\u001b[0m: 'green'"
     ]
    }
   ],
   "source": [
    "alien['green']"
   ]
  },
  {
   "cell_type": "code",
   "execution_count": null,
   "id": "2e53162f-7133-447a-a077-12fc7839ba40",
   "metadata": {},
   "outputs": [],
   "source": [
    "Implementation fo for loop on the dictionary :"
   ]
  },
  {
   "cell_type": "code",
   "execution_count": 37,
   "id": "0d9edbf2-cdf3-42b4-856b-56ef2d148b33",
   "metadata": {},
   "outputs": [],
   "source": [
    "# general syntax:"
   ]
  },
  {
   "cell_type": "code",
   "execution_count": null,
   "id": "9788fc84-6e6f-4ebc-b5fd-109609b52a45",
   "metadata": {},
   "outputs": [],
   "source": [
    "for tempvar, tempvar in mainvar.items():\n",
    "    print (tempvar1)\n",
    "    print (tempvar2)"
   ]
  },
  {
   "cell_type": "code",
   "execution_count": 39,
   "id": "945b2c12-5d42-4e0a-b44a-e836d2891a20",
   "metadata": {},
   "outputs": [
    {
     "name": "stdout",
     "output_type": "stream",
     "text": [
      "{'colour': 'green', 'points': 10, 'start_position': 'level0', 'current_position': 'level - 1'}\n"
     ]
    }
   ],
   "source": [
    "print(alien)"
   ]
  },
  {
   "cell_type": "code",
   "execution_count": 41,
   "id": "a31e3a3f-1476-46e1-b83f-d70ec84c6785",
   "metadata": {},
   "outputs": [
    {
     "name": "stdout",
     "output_type": "stream",
     "text": [
      "colour\n",
      "green\n",
      "points\n",
      "10\n",
      "start_position\n",
      "level0\n",
      "current_position\n",
      "level - 1\n"
     ]
    }
   ],
   "source": [
    "for k,v in alien.items():\n",
    "    print(k)\n",
    "    print(v)"
   ]
  },
  {
   "cell_type": "code",
   "execution_count": null,
   "id": "0c481d5e-613e-42d2-96a2-7f8b3838f737",
   "metadata": {},
   "outputs": [],
   "source": []
  }
 ],
 "metadata": {
  "kernelspec": {
   "display_name": "Python 3 (ipykernel)",
   "language": "python",
   "name": "python3"
  },
  "language_info": {
   "codemirror_mode": {
    "name": "ipython",
    "version": 3
   },
   "file_extension": ".py",
   "mimetype": "text/x-python",
   "name": "python",
   "nbconvert_exporter": "python",
   "pygments_lexer": "ipython3",
   "version": "3.12.4"
  }
 },
 "nbformat": 4,
 "nbformat_minor": 5
}
