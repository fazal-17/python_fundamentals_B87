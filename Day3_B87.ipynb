{
 "cells": [
  {
   "cell_type": "code",
   "execution_count": null,
   "id": "033fd1fd-d7dd-4447-bab2-eab11a466e44",
   "metadata": {},
   "outputs": [],
   "source": [
    "Introduction to Datatypes:\n",
    "\n",
    "1. String ====> str\n",
    "\n",
    "2. Numbers ====> Integer (int), float (Decimals) 0.1,0.2,0.3\n",
    "\n",
    "3. List ====> list\n",
    "\n",
    "4. Tuples ====> tuple\n",
    "\n",
    "5. Dictionaries ====> dict"
   ]
  },
  {
   "cell_type": "code",
   "execution_count": null,
   "id": "e6b803d3-7892-4629-8619-ac3720242293",
   "metadata": {},
   "outputs": [],
   "source": []
  },
  {
   "cell_type": "code",
   "execution_count": null,
   "id": "947b99f8-da46-4abf-b209-5dfa1378d54e",
   "metadata": {},
   "outputs": [],
   "source": [
    "Classification of Datatypes:\n",
    "\n",
    "Broadly datatypes are classified into two types:\n",
    "\n",
    "1. Mutable datatypes ====> which we can be able to edit/alter ====> flexible in nature\n",
    "\n",
    "2.Immutable datatypes ====> which we cannot be able to edit/alter ====> fixed in nature"
   ]
  },
  {
   "cell_type": "code",
   "execution_count": null,
   "id": "59628e9b-3a2d-4570-8508-4daf235e338a",
   "metadata": {},
   "outputs": [],
   "source": []
  },
  {
   "cell_type": "code",
   "execution_count": null,
   "id": "ff45bef0-7cc6-4d1e-a1ab-6fce1bafd452",
   "metadata": {},
   "outputs": [],
   "source": [
    "Note: python is a case sensitive programming langauge"
   ]
  },
  {
   "cell_type": "code",
   "execution_count": null,
   "id": "b8c04394-ff1a-47a3-8f99-5d142ea18980",
   "metadata": {},
   "outputs": [],
   "source": []
  },
  {
   "cell_type": "code",
   "execution_count": null,
   "id": "d451e780-8a22-43e4-ba51-a7a25d02912a",
   "metadata": {},
   "outputs": [],
   "source": [
    "Introduction to String Datatypes:\n",
    "\n",
    "Defination: A String is a series of characters declared in quotes.\n",
    "\n",
    "Classification: It is classified as an immutable datatype.\n",
    "\n",
    "How to declare String datatype --->?\n",
    "\n",
    "1. Single quote ====> ' '\n",
    "\n",
    "2. Double quote ====> \" \""
   ]
  },
  {
   "cell_type": "code",
   "execution_count": null,
   "id": "550eb9ea-4611-4b60-ae5d-1995e6d67540",
   "metadata": {},
   "outputs": [],
   "source": []
  },
  {
   "cell_type": "code",
   "execution_count": 1,
   "id": "d794e8d5-b4ea-4a5f-9f45-efd796768dfe",
   "metadata": {},
   "outputs": [
    {
     "name": "stdout",
     "output_type": "stream",
     "text": [
      "raju\n"
     ]
    }
   ],
   "source": [
    "name = 'raju' #Single quote\n",
    "print(name)"
   ]
  },
  {
   "cell_type": "code",
   "execution_count": 3,
   "id": "409580da-3377-4c9a-ae1c-a99fddd8c47f",
   "metadata": {},
   "outputs": [
    {
     "name": "stdout",
     "output_type": "stream",
     "text": [
      "fazal\n"
     ]
    }
   ],
   "source": [
    "name = \"fazal\" #Double quote\n",
    "print (name)"
   ]
  },
  {
   "cell_type": "code",
   "execution_count": null,
   "id": "68a58fb3-5ef5-4832-94f9-75daddbb4478",
   "metadata": {},
   "outputs": [],
   "source": [
    "# is used for commenting the code"
   ]
  },
  {
   "cell_type": "code",
   "execution_count": null,
   "id": "c6a04717-fc39-4f6b-92a0-51768537b1f1",
   "metadata": {},
   "outputs": [],
   "source": []
  },
  {
   "cell_type": "code",
   "execution_count": null,
   "id": "8c45c2e6-4ae8-42ba-90b7-37f06bc576ae",
   "metadata": {},
   "outputs": [],
   "source": [
    "Introduction to string methods:"
   ]
  },
  {
   "cell_type": "code",
   "execution_count": 5,
   "id": "2aa1f756-0352-4448-8231-8d7fc7ea0a5c",
   "metadata": {},
   "outputs": [
    {
     "data": {
      "text/plain": [
       "str"
      ]
     },
     "execution_count": 5,
     "metadata": {},
     "output_type": "execute_result"
    }
   ],
   "source": [
    "type(name)"
   ]
  },
  {
   "cell_type": "code",
   "execution_count": null,
   "id": "5144db8d-60d5-41ea-8969-e45c161d47ac",
   "metadata": {},
   "outputs": [],
   "source": [
    "type method is used to verify and validate what kind of datatype it is."
   ]
  },
  {
   "cell_type": "code",
   "execution_count": 7,
   "id": "5a6d0ce6-5c76-49b3-9ac3-6c6e68ed8469",
   "metadata": {},
   "outputs": [
    {
     "name": "stdout",
     "output_type": "stream",
     "text": [
      "ahamed\n"
     ]
    }
   ],
   "source": [
    "fullname ='ahamed'\n",
    "print(fullname)"
   ]
  },
  {
   "cell_type": "code",
   "execution_count": 11,
   "id": "9700e807-0ee6-4be2-ba0e-516ef7bbd1e4",
   "metadata": {},
   "outputs": [
    {
     "name": "stdout",
     "output_type": "stream",
     "text": [
      "fazal ahamed\n"
     ]
    }
   ],
   "source": [
    "fullname = 'fazal ahamed'\n",
    "print (fullname)"
   ]
  },
  {
   "cell_type": "code",
   "execution_count": 13,
   "id": "2a2d8fc5-9623-4dd2-966c-8382bb225308",
   "metadata": {},
   "outputs": [
    {
     "name": "stdout",
     "output_type": "stream",
     "text": [
      "Fazal Ahamed\n"
     ]
    }
   ],
   "source": [
    "print(fullname.title())"
   ]
  },
  {
   "cell_type": "code",
   "execution_count": null,
   "id": "15f55cfe-ce0f-4771-b862-0234308f74e3",
   "metadata": {},
   "outputs": [],
   "source": []
  },
  {
   "cell_type": "code",
   "execution_count": null,
   "id": "c8f0f84d-dfd4-4ed6-94f0-67721efdbd72",
   "metadata": {},
   "outputs": [],
   "source": [
    "#req: I want the entire name in capitals"
   ]
  },
  {
   "cell_type": "code",
   "execution_count": 15,
   "id": "f19b5199-763f-486b-a513-fbefcc3deaf9",
   "metadata": {},
   "outputs": [
    {
     "name": "stdout",
     "output_type": "stream",
     "text": [
      "FAZAL AHAMED\n"
     ]
    }
   ],
   "source": [
    "print(fullname.upper())"
   ]
  },
  {
   "cell_type": "code",
   "execution_count": null,
   "id": "da59fea8-949e-4e73-a6d4-52d80cab7f3c",
   "metadata": {},
   "outputs": [],
   "source": [
    "#req: I want to entire name in small case letters"
   ]
  },
  {
   "cell_type": "code",
   "execution_count": 17,
   "id": "00600031-f06d-4ce6-aa54-dba8fd6fb445",
   "metadata": {},
   "outputs": [
    {
     "name": "stdout",
     "output_type": "stream",
     "text": [
      "fazal ahamed\n"
     ]
    }
   ],
   "source": [
    "print(fullname.lower())"
   ]
  },
  {
   "cell_type": "code",
   "execution_count": null,
   "id": "63e9651b-3251-4b13-b68e-08d710c10def",
   "metadata": {},
   "outputs": [],
   "source": []
  }
 ],
 "metadata": {
  "kernelspec": {
   "display_name": "Python 3 (ipykernel)",
   "language": "python",
   "name": "python3"
  },
  "language_info": {
   "codemirror_mode": {
    "name": "ipython",
    "version": 3
   },
   "file_extension": ".py",
   "mimetype": "text/x-python",
   "name": "python",
   "nbconvert_exporter": "python",
   "pygments_lexer": "ipython3",
   "version": "3.12.4"
  }
 },
 "nbformat": 4,
 "nbformat_minor": 5
}
