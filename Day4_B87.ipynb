{
 "cells": [
  {
   "cell_type": "code",
   "execution_count": null,
   "id": "7f658910-8637-4f4e-9745-f9ea615a347a",
   "metadata": {},
   "outputs": [],
   "source": [
    "Continuation with String datatype:"
   ]
  },
  {
   "cell_type": "code",
   "execution_count": null,
   "id": "e145aa8f-9d1d-4b4f-89a7-56e6ad87b1ff",
   "metadata": {},
   "outputs": [],
   "source": []
  },
  {
   "cell_type": "code",
   "execution_count": 3,
   "id": "3e14613a-79ea-4eaa-9248-9e69ea111ed2",
   "metadata": {},
   "outputs": [],
   "source": [
    "firstname=\"ravi\"\n",
    "lastname=\"kumar\""
   ]
  },
  {
   "cell_type": "code",
   "execution_count": null,
   "id": "b0dc40d1-293e-4a87-a25d-46b10d005f5f",
   "metadata": {},
   "outputs": [],
   "source": [
    "#req: i want the full name...?"
   ]
  },
  {
   "cell_type": "code",
   "execution_count": null,
   "id": "794516d1-c729-481a-b7c8-9d6b7daa6b4e",
   "metadata": {},
   "outputs": [],
   "source": []
  },
  {
   "cell_type": "code",
   "execution_count": null,
   "id": "a7b310c9-f18b-42f5-989e-bf847030d74b",
   "metadata": {},
   "outputs": [],
   "source": [
    "Introduction to f strings:"
   ]
  },
  {
   "cell_type": "code",
   "execution_count": null,
   "id": "fadcd783-5267-45ce-8b1f-4ea5287ce815",
   "metadata": {},
   "outputs": [],
   "source": [
    "#general syntax of f strings"
   ]
  },
  {
   "cell_type": "code",
   "execution_count": null,
   "id": "78d36fc7-0ec4-4068-8420-3f9cca22fb3a",
   "metadata": {},
   "outputs": [],
   "source": [
    "f\" custom message {placeholder1} {placeholder2}.....{placeholder....n}\""
   ]
  },
  {
   "cell_type": "code",
   "execution_count": null,
   "id": "f8014ea2-c57d-4e64-bdc1-e7d4ac85e3f9",
   "metadata": {},
   "outputs": [],
   "source": []
  },
  {
   "cell_type": "code",
   "execution_count": 5,
   "id": "d1ab5f38-5794-433b-b01f-66bb93d92997",
   "metadata": {},
   "outputs": [
    {
     "name": "stdout",
     "output_type": "stream",
     "text": [
      "ravi kumar\n"
     ]
    }
   ],
   "source": [
    "fullname=f\"{firstname} {lastname}\"\n",
    "print(fullname)"
   ]
  },
  {
   "cell_type": "code",
   "execution_count": 7,
   "id": "1ad089cd-9890-4247-863d-3ed4f2c6c07e",
   "metadata": {},
   "outputs": [
    {
     "name": "stdout",
     "output_type": "stream",
     "text": [
      "Ravi Kumar\n"
     ]
    }
   ],
   "source": [
    "print(fullname.title())"
   ]
  },
  {
   "cell_type": "code",
   "execution_count": 11,
   "id": "a27a3fbb-d4d0-4476-99b2-8ff5f27e265f",
   "metadata": {},
   "outputs": [
    {
     "name": "stdout",
     "output_type": "stream",
     "text": [
      "Keep up the good work ravi kumar\n"
     ]
    }
   ],
   "source": [
    "message= f\"Keep up the good work {fullname}\"\n",
    "print (message)"
   ]
  },
  {
   "cell_type": "code",
   "execution_count": 13,
   "id": "ea6a780f-8ec5-4373-aff7-940348d7ed05",
   "metadata": {},
   "outputs": [
    {
     "name": "stdout",
     "output_type": "stream",
     "text": [
      "Keep up the good work Ravi Kumar\n"
     ]
    }
   ],
   "source": [
    "message= f\"Keep up the good work {fullname.title()}\"\n",
    "print (message)"
   ]
  },
  {
   "cell_type": "code",
   "execution_count": null,
   "id": "b05f3903-fb50-47b8-9a99-8d0d081227e1",
   "metadata": {},
   "outputs": [],
   "source": []
  },
  {
   "cell_type": "code",
   "execution_count": null,
   "id": "1282a846-9750-42d3-80ae-ca6938868483",
   "metadata": {},
   "outputs": [],
   "source": [
    "Adding White spaces to strings:"
   ]
  },
  {
   "cell_type": "code",
   "execution_count": 15,
   "id": "0ca075ed-5466-4f22-96e3-1221ae5099e5",
   "metadata": {},
   "outputs": [
    {
     "ename": "SyntaxError",
     "evalue": "unterminated string literal (detected at line 1) (2722937423.py, line 1)",
     "output_type": "error",
     "traceback": [
      "\u001b[1;36m  Cell \u001b[1;32mIn[15], line 1\u001b[1;36m\u001b[0m\n\u001b[1;33m    print(\"favourite programming language: Pythonjavac++swiftreact)\u001b[0m\n\u001b[1;37m          ^\u001b[0m\n\u001b[1;31mSyntaxError\u001b[0m\u001b[1;31m:\u001b[0m unterminated string literal (detected at line 1)\n"
     ]
    }
   ],
   "source": [
    "print(\"favourite programming language: Pythonjavac++swiftreact)"
   ]
  },
  {
   "cell_type": "code",
   "execution_count": 17,
   "id": "d81f49de-ca64-47ad-94dc-92ddb80b8b83",
   "metadata": {},
   "outputs": [
    {
     "name": "stdout",
     "output_type": "stream",
     "text": [
      "favourite programming language: Pythonjavac++swiftreact\n"
     ]
    }
   ],
   "source": [
    "print(\"favourite programming language: Pythonjavac++swiftreact\")"
   ]
  },
  {
   "cell_type": "code",
   "execution_count": 19,
   "id": "0c6cad87-8f49-480a-b7a6-5368fbbbe43f",
   "metadata": {},
   "outputs": [
    {
     "name": "stdout",
     "output_type": "stream",
     "text": [
      "favourite programming language:\n",
      "Python\n",
      "java\n",
      "c++\n",
      "swift\n",
      "react\n"
     ]
    }
   ],
   "source": [
    "print(\"favourite programming language:\\nPython\\njava\\nc++\\nswift\\nreact\") #\\n---> new line delimiter"
   ]
  },
  {
   "cell_type": "code",
   "execution_count": 21,
   "id": "20e85ee3-a35a-4c8c-bfc0-a8c51aa24e8a",
   "metadata": {},
   "outputs": [
    {
     "name": "stdout",
     "output_type": "stream",
     "text": [
      "favourite programming language:\n",
      "\tPython\n",
      "\tjava\n",
      "\tc++\n",
      "\tswift\n",
      "\treact\n"
     ]
    }
   ],
   "source": [
    "print(\"favourite programming language:\\n\\tPython\\n\\tjava\\n\\tc++\\n\\tswift\\n\\treact\") #\\t---> Tab delimiter"
   ]
  },
  {
   "cell_type": "code",
   "execution_count": null,
   "id": "7772f338-914f-488d-bd2f-e0b694ab32c3",
   "metadata": {},
   "outputs": [],
   "source": []
  },
  {
   "cell_type": "code",
   "execution_count": null,
   "id": "2e4870f2-58da-4614-82db-6383b59b3e43",
   "metadata": {},
   "outputs": [],
   "source": [
    "Removing White spaces from the strings:"
   ]
  },
  {
   "cell_type": "code",
   "execution_count": 25,
   "id": "536293c0-8a92-4e0f-b0eb-bb1773fd32f2",
   "metadata": {},
   "outputs": [
    {
     "name": "stdout",
     "output_type": "stream",
     "text": [
      "python\n"
     ]
    }
   ],
   "source": [
    "name=\"python\" #no gap\n",
    "print(name)"
   ]
  },
  {
   "cell_type": "code",
   "execution_count": 27,
   "id": "0bdc5357-cec9-475d-8c55-d72021664ae2",
   "metadata": {},
   "outputs": [
    {
     "name": "stdout",
     "output_type": "stream",
     "text": [
      "   python\n"
     ]
    }
   ],
   "source": [
    "name2=\"   python\" #gap on the left side\n",
    "print(name2)"
   ]
  },
  {
   "cell_type": "code",
   "execution_count": 29,
   "id": "b41a8550-5631-488a-8104-b9f8a6f28029",
   "metadata": {},
   "outputs": [
    {
     "name": "stdout",
     "output_type": "stream",
     "text": [
      "python   \n"
     ]
    }
   ],
   "source": [
    "name3=\"python   \" #gap on the right side\n",
    "print (name3);"
   ]
  },
  {
   "cell_type": "code",
   "execution_count": null,
   "id": "fd0c73cb-14f6-4b78-ad4c-38b7d89d45d3",
   "metadata": {},
   "outputs": [],
   "source": [
    "Strip Method:"
   ]
  },
  {
   "cell_type": "code",
   "execution_count": 33,
   "id": "fb297b73-f535-4868-b6c8-79597f43abbf",
   "metadata": {},
   "outputs": [
    {
     "data": {
      "text/plain": [
       "'python'"
      ]
     },
     "execution_count": 33,
     "metadata": {},
     "output_type": "execute_result"
    }
   ],
   "source": [
    "name2.strip()"
   ]
  },
  {
   "cell_type": "code",
   "execution_count": 35,
   "id": "a5d2b52b-dc8c-440c-83e0-5393ba043945",
   "metadata": {},
   "outputs": [
    {
     "data": {
      "text/plain": [
       "'python'"
      ]
     },
     "execution_count": 35,
     "metadata": {},
     "output_type": "execute_result"
    }
   ],
   "source": [
    "name3.strip()"
   ]
  },
  {
   "cell_type": "code",
   "execution_count": null,
   "id": "057ba2cb-6d96-49a8-9fcf-ae98c8d973f1",
   "metadata": {},
   "outputs": [],
   "source": []
  },
  {
   "cell_type": "code",
   "execution_count": null,
   "id": "f2d1211e-b85e-48cb-b773-216ba69b539e",
   "metadata": {},
   "outputs": [],
   "source": []
  },
  {
   "cell_type": "code",
   "execution_count": null,
   "id": "55e39154-f9eb-40b9-a48e-69f9be7eecf1",
   "metadata": {},
   "outputs": [],
   "source": []
  },
  {
   "cell_type": "code",
   "execution_count": null,
   "id": "f82b0361-7479-426b-b3d6-51c623d0991d",
   "metadata": {},
   "outputs": [],
   "source": []
  },
  {
   "cell_type": "code",
   "execution_count": null,
   "id": "c580a861-ea17-41e8-8486-0f07d2d8de9d",
   "metadata": {},
   "outputs": [],
   "source": []
  }
 ],
 "metadata": {
  "kernelspec": {
   "display_name": "Python 3 (ipykernel)",
   "language": "python",
   "name": "python3"
  },
  "language_info": {
   "codemirror_mode": {
    "name": "ipython",
    "version": 3
   },
   "file_extension": ".py",
   "mimetype": "text/x-python",
   "name": "python",
   "nbconvert_exporter": "python",
   "pygments_lexer": "ipython3",
   "version": "3.12.4"
  }
 },
 "nbformat": 4,
 "nbformat_minor": 5
}
