{
 "cells": [
  {
   "cell_type": "code",
   "execution_count": null,
   "id": "a62ba7c6-c026-4b3d-ad7f-ac6a447bd946",
   "metadata": {},
   "outputs": [],
   "source": [
    "Introduction to list datatypes:"
   ]
  },
  {
   "cell_type": "code",
   "execution_count": null,
   "id": "c476309c-8903-4ace-9819-58256b17f393",
   "metadata": {},
   "outputs": [],
   "source": [
    "Defination: A list is a collection of items declared in a particular order.\n",
    "\n",
    "classification: It is classified as a mutable datatypes.\n",
    "\n",
    "how to declare the list ----> [ ]"
   ]
  },
  {
   "cell_type": "code",
   "execution_count": null,
   "id": "200f50da-55b8-460b-b3c4-599a592771ce",
   "metadata": {},
   "outputs": [],
   "source": []
  },
  {
   "cell_type": "code",
   "execution_count": 1,
   "id": "d7b0de4c-5d14-4dcc-affc-da1f2f3803ff",
   "metadata": {},
   "outputs": [],
   "source": [
    "students = ['fazal','ahamed','mohammed']  #0,1,2"
   ]
  },
  {
   "cell_type": "code",
   "execution_count": 3,
   "id": "dab74cfa-d69f-4926-b1c3-768c3597d66f",
   "metadata": {},
   "outputs": [
    {
     "name": "stdout",
     "output_type": "stream",
     "text": [
      "['fazal', 'ahamed', 'mohammed']\n"
     ]
    }
   ],
   "source": [
    "print(students)"
   ]
  },
  {
   "cell_type": "code",
   "execution_count": 7,
   "id": "02b67c98-f914-47e5-be91-ad800a4edc82",
   "metadata": {},
   "outputs": [
    {
     "data": {
      "text/plain": [
       "list"
      ]
     },
     "execution_count": 7,
     "metadata": {},
     "output_type": "execute_result"
    }
   ],
   "source": [
    "type(students)"
   ]
  },
  {
   "cell_type": "code",
   "execution_count": null,
   "id": "6d2fc223-724e-4e13-8d0c-27de7a65cf76",
   "metadata": {},
   "outputs": [],
   "source": []
  },
  {
   "cell_type": "code",
   "execution_count": null,
   "id": "666437b9-9cde-4ce3-8acb-dbb7d64118f6",
   "metadata": {},
   "outputs": [],
   "source": [
    "Introduction to Indexation: 0,1,2,3,........n"
   ]
  },
  {
   "cell_type": "code",
   "execution_count": null,
   "id": "98ea182a-136e-44be-9fc1-4f539784b4e1",
   "metadata": {},
   "outputs": [],
   "source": [
    "#req: I want to access mohammed name in the output.....?"
   ]
  },
  {
   "cell_type": "code",
   "execution_count": 9,
   "id": "2fdce1bb-d325-4a34-beb0-844096221226",
   "metadata": {},
   "outputs": [
    {
     "name": "stdout",
     "output_type": "stream",
     "text": [
      "mohammed\n"
     ]
    }
   ],
   "source": [
    "print(students[2])"
   ]
  },
  {
   "cell_type": "code",
   "execution_count": 11,
   "id": "b133233c-ee74-4e42-b40d-d2b9280dad84",
   "metadata": {},
   "outputs": [
    {
     "name": "stdout",
     "output_type": "stream",
     "text": [
      "Mohammed\n"
     ]
    }
   ],
   "source": [
    "print(students[2].title())"
   ]
  },
  {
   "cell_type": "code",
   "execution_count": null,
   "id": "7fa0233b-cc3f-4f8f-ad61-40199e8398ae",
   "metadata": {},
   "outputs": [],
   "source": [
    "#req: I want to access ahamed name in the output.....?"
   ]
  },
  {
   "cell_type": "code",
   "execution_count": 13,
   "id": "a1505c0b-5321-405b-9e48-744e487d88bc",
   "metadata": {},
   "outputs": [
    {
     "name": "stdout",
     "output_type": "stream",
     "text": [
      "Ahamed\n"
     ]
    }
   ],
   "source": [
    "print(students[1].title())"
   ]
  },
  {
   "cell_type": "code",
   "execution_count": null,
   "id": "6213948e-eea2-4e21-9ed1-ba88b5bcb4ca",
   "metadata": {},
   "outputs": [],
   "source": []
  },
  {
   "cell_type": "code",
   "execution_count": null,
   "id": "4d7a392c-17ee-4ecc-ac9b-43161209f4ec",
   "metadata": {},
   "outputs": [],
   "source": [
    "1. How to add new elements to the list\n",
    "\n",
    "2. How to modify the elements in the list\n",
    "\n",
    "3. How to delete the elements in the list"
   ]
  },
  {
   "cell_type": "code",
   "execution_count": 15,
   "id": "00c5752f-3264-4445-979a-9ccb34aa4e30",
   "metadata": {},
   "outputs": [
    {
     "name": "stdout",
     "output_type": "stream",
     "text": [
      "['fazal', 'ahamed', 'mohammed']\n"
     ]
    }
   ],
   "source": [
    "print(students)"
   ]
  },
  {
   "cell_type": "code",
   "execution_count": 17,
   "id": "d09eeaf9-b5a2-45cc-9d49-47945ad6b530",
   "metadata": {},
   "outputs": [],
   "source": [
    "# I want to add adil to the above list...."
   ]
  },
  {
   "cell_type": "code",
   "execution_count": 21,
   "id": "f6d3eaa3-9452-4ab6-8b31-720cfdee57b3",
   "metadata": {},
   "outputs": [],
   "source": [
    "students.append('adil')"
   ]
  },
  {
   "cell_type": "code",
   "execution_count": 23,
   "id": "aa733dd6-11f9-483d-ac14-a412edc8d10f",
   "metadata": {},
   "outputs": [
    {
     "name": "stdout",
     "output_type": "stream",
     "text": [
      "['fazal', 'ahamed', 'mohammed', 'adil', 'adil']\n"
     ]
    }
   ],
   "source": [
    "print (students)"
   ]
  },
  {
   "cell_type": "code",
   "execution_count": 25,
   "id": "0907dd40-1821-4f11-b85c-bb30a4528235",
   "metadata": {},
   "outputs": [],
   "source": [
    "# I want to add suresh to the list..."
   ]
  },
  {
   "cell_type": "code",
   "execution_count": 27,
   "id": "081ff807-75ff-433b-a46f-ba9a2ccbe939",
   "metadata": {},
   "outputs": [],
   "source": [
    "students.append(\"suresh\")"
   ]
  },
  {
   "cell_type": "code",
   "execution_count": 29,
   "id": "9929c401-6bd3-49bb-ab7c-30d755efc236",
   "metadata": {},
   "outputs": [
    {
     "name": "stdout",
     "output_type": "stream",
     "text": [
      "['fazal', 'ahamed', 'mohammed', 'adil', 'adil', 'suresh']\n"
     ]
    }
   ],
   "source": [
    "print(students)"
   ]
  },
  {
   "cell_type": "code",
   "execution_count": 31,
   "id": "c2dd7380-a598-4fdf-b958-00dfaa2f7f64",
   "metadata": {},
   "outputs": [],
   "source": [
    "#req: I want to add neha at 2nd index"
   ]
  },
  {
   "cell_type": "code",
   "execution_count": 33,
   "id": "486f01c5-241c-4fb5-8910-fbac35fce5a6",
   "metadata": {},
   "outputs": [
    {
     "ename": "NameError",
     "evalue": "name 'student' is not defined",
     "output_type": "error",
     "traceback": [
      "\u001b[1;31m---------------------------------------------------------------------------\u001b[0m",
      "\u001b[1;31mNameError\u001b[0m                                 Traceback (most recent call last)",
      "Cell \u001b[1;32mIn[33], line 1\u001b[0m\n\u001b[1;32m----> 1\u001b[0m student\u001b[38;5;241m.\u001b[39minsert(\u001b[38;5;241m2\u001b[39m,\u001b[38;5;124m\"\u001b[39m\u001b[38;5;124mneha\u001b[39m\u001b[38;5;124m\"\u001b[39m)\n",
      "\u001b[1;31mNameError\u001b[0m: name 'student' is not defined"
     ]
    }
   ],
   "source": [
    "student.insert(2,\"neha\")"
   ]
  },
  {
   "cell_type": "code",
   "execution_count": 35,
   "id": "d021c11b-e21b-4c71-8acc-45dd0fe30df3",
   "metadata": {},
   "outputs": [],
   "source": [
    "students.insert(2,\"neha\")"
   ]
  },
  {
   "cell_type": "code",
   "execution_count": 37,
   "id": "9e40bfcd-9d86-41ca-8b7e-49b9c31783ef",
   "metadata": {},
   "outputs": [
    {
     "name": "stdout",
     "output_type": "stream",
     "text": [
      "['fazal', 'ahamed', 'neha', 'mohammed', 'adil', 'adil', 'suresh']\n"
     ]
    }
   ],
   "source": [
    "print(students)"
   ]
  },
  {
   "cell_type": "code",
   "execution_count": 41,
   "id": "a3ac8d48-08b9-4619-85c3-05d4c98406d3",
   "metadata": {},
   "outputs": [],
   "source": [
    "Interview_ques: what is the difference between append and insert method in the list datatype."
   ]
  },
  {
   "cell_type": "code",
   "execution_count": 45,
   "id": "983349a7-97f4-45ef-8dc5-b7fd4517ff23",
   "metadata": {},
   "outputs": [
    {
     "name": "stdout",
     "output_type": "stream",
     "text": [
      "['fazal', 'ahamed', 'neha', 'mohammed', 'adil', 'adil', 'suresh']\n"
     ]
    }
   ],
   "source": [
    "print(students)"
   ]
  },
  {
   "cell_type": "code",
   "execution_count": 43,
   "id": "fdba465a-9814-4d26-9318-fe11b8125d03",
   "metadata": {},
   "outputs": [],
   "source": [
    "#req: I want to modify mohammed name to kiran...."
   ]
  },
  {
   "cell_type": "code",
   "execution_count": 47,
   "id": "d4998919-d09f-4b68-9ede-b53589e3578d",
   "metadata": {},
   "outputs": [],
   "source": [
    "students[3]=\"kiran\""
   ]
  },
  {
   "cell_type": "code",
   "execution_count": 49,
   "id": "5415a492-69ac-436b-855c-f0c9dbebf1ba",
   "metadata": {},
   "outputs": [
    {
     "name": "stdout",
     "output_type": "stream",
     "text": [
      "['fazal', 'ahamed', 'neha', 'kiran', 'adil', 'adil', 'suresh']\n"
     ]
    }
   ],
   "source": [
    "print(students)"
   ]
  },
  {
   "cell_type": "code",
   "execution_count": null,
   "id": "ebd5b2a2-bf2c-49db-b0bc-9a650bf62c3a",
   "metadata": {},
   "outputs": [],
   "source": []
  },
  {
   "cell_type": "code",
   "execution_count": 51,
   "id": "32081a20-d091-444d-aa5a-548308b07e39",
   "metadata": {},
   "outputs": [],
   "source": [
    "#req: I want to delete the neha in the list....."
   ]
  },
  {
   "cell_type": "code",
   "execution_count": 53,
   "id": "4b06b7c9-66cf-408d-86eb-fd9aef1a59e3",
   "metadata": {},
   "outputs": [],
   "source": [
    "del students[2]"
   ]
  },
  {
   "cell_type": "code",
   "execution_count": 55,
   "id": "c3324af9-19e8-43b6-a5b5-1e406c65ba27",
   "metadata": {},
   "outputs": [
    {
     "name": "stdout",
     "output_type": "stream",
     "text": [
      "['fazal', 'ahamed', 'kiran', 'adil', 'adil', 'suresh']\n"
     ]
    }
   ],
   "source": [
    "print(students)"
   ]
  },
  {
   "cell_type": "code",
   "execution_count": null,
   "id": "6c65b634-4c03-425e-a7f7-d46954220e0f",
   "metadata": {},
   "outputs": [],
   "source": []
  },
  {
   "cell_type": "code",
   "execution_count": null,
   "id": "337559af-3f59-453d-8754-24d3fa0fffdc",
   "metadata": {},
   "outputs": [],
   "source": [
    "Zen of python:"
   ]
  },
  {
   "cell_type": "code",
   "execution_count": 57,
   "id": "4bcb37b5-29e8-406c-9bba-660fb37e0b48",
   "metadata": {},
   "outputs": [
    {
     "name": "stdout",
     "output_type": "stream",
     "text": [
      "The Zen of Python, by Tim Peters\n",
      "\n",
      "Beautiful is better than ugly.\n",
      "Explicit is better than implicit.\n",
      "Simple is better than complex.\n",
      "Complex is better than complicated.\n",
      "Flat is better than nested.\n",
      "Sparse is better than dense.\n",
      "Readability counts.\n",
      "Special cases aren't special enough to break the rules.\n",
      "Although practicality beats purity.\n",
      "Errors should never pass silently.\n",
      "Unless explicitly silenced.\n",
      "In the face of ambiguity, refuse the temptation to guess.\n",
      "There should be one-- and preferably only one --obvious way to do it.\n",
      "Although that way may not be obvious at first unless you're Dutch.\n",
      "Now is better than never.\n",
      "Although never is often better than *right* now.\n",
      "If the implementation is hard to explain, it's a bad idea.\n",
      "If the implementation is easy to explain, it may be a good idea.\n",
      "Namespaces are one honking great idea -- let's do more of those!\n"
     ]
    }
   ],
   "source": [
    "import this"
   ]
  },
  {
   "cell_type": "code",
   "execution_count": null,
   "id": "57105f34-c773-4be8-ad15-ae56441606f4",
   "metadata": {},
   "outputs": [],
   "source": []
  },
  {
   "cell_type": "code",
   "execution_count": null,
   "id": "0ff4d090-79c7-4485-8699-c2d7a86e2548",
   "metadata": {},
   "outputs": [],
   "source": []
  },
  {
   "cell_type": "code",
   "execution_count": null,
   "id": "e2279afb-501f-4f88-bec0-ebf45f73b17b",
   "metadata": {},
   "outputs": [],
   "source": []
  },
  {
   "cell_type": "code",
   "execution_count": null,
   "id": "5f5de2af-4735-44d6-a5cd-83b217f0686e",
   "metadata": {},
   "outputs": [],
   "source": []
  }
 ],
 "metadata": {
  "kernelspec": {
   "display_name": "Python 3 (ipykernel)",
   "language": "python",
   "name": "python3"
  },
  "language_info": {
   "codemirror_mode": {
    "name": "ipython",
    "version": 3
   },
   "file_extension": ".py",
   "mimetype": "text/x-python",
   "name": "python",
   "nbconvert_exporter": "python",
   "pygments_lexer": "ipython3",
   "version": "3.12.4"
  }
 },
 "nbformat": 4,
 "nbformat_minor": 5
}
